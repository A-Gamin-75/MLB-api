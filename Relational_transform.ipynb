{
 "cells": [
  {
   "cell_type": "code",
   "execution_count": 72,
   "id": "c357d064-82ef-40f1-b3c6-2f83885ace94",
   "metadata": {},
   "outputs": [],
   "source": [
    "import pandas as pd\n",
    "import csv\n",
    "from pprint import pprint\n",
    "import glob\n",
    "import os\n",
    "import sys"
   ]
  },
  {
   "cell_type": "code",
   "execution_count": 109,
   "id": "b128e6d5-4373-47b9-992c-76e54be00e48",
   "metadata": {},
   "outputs": [],
   "source": [
    "def transformEAV(raw, index, values=\"val\", columns=\"group_stat\", aggfunc=\"last\", output=None):\n",
    "    relational_data = raw.pivot_table(\n",
    "        index=index,\n",
    "        columns=columns,\n",
    "        values=values,\n",
    "        aggfunc=aggfunc\n",
    "    ).reset_index()\n",
    "    if output:\n",
    "        relational_data.to_csv(f'{output}',index=False)\n",
    "    return relational_data\n",
    "        "
   ]
  },
  {
   "cell_type": "code",
   "execution_count": 111,
   "id": "862b4497-20a8-49e1-8bd7-1b22d774682e",
   "metadata": {},
   "outputs": [],
   "source": [
    "team_season_stats = []\n",
    "\n",
    "folder_path = 'team_stats/'\n",
    "csv_files = glob.glob(os.path.join(folder_path,'*_season.csv'))\n",
    "for file in csv_files:\n",
    "    filename = os.path.basename(file)\n",
    "    team_stats = pd.read_csv(file)\n",
    "    date = filename[:4]\n",
    "    team_stats['group_stat'] = team_stats['group'] + '_'+team_stats['stat']\n",
    "    relational_stats=transformEAV(team_stats,index=['season','teamId','domain','range','updateDate'],output=f'team_stats/relational/{date}_team_season_stats.csv')"
   ]
  },
  {
   "cell_type": "code",
   "execution_count": 99,
   "id": "4db9222d-903b-4b98-844b-9f43dd077311",
   "metadata": {},
   "outputs": [],
   "source": [
    "raw = pd.read_csv('team_stats/2025-07-04_team_stats.csv')\n",
    "raw[\"group_stat\"] = raw[\"group\"] + \"_\" + raw[\"stat\"]"
   ]
  },
  {
   "cell_type": "code",
   "execution_count": 82,
   "id": "1c48c316-30a6-4c3d-8c89-132d39bb0a9d",
   "metadata": {},
   "outputs": [],
   "source": [
    "team_game_stats = transformEAV(raw,    index=[\"gamePk\", \"domain\", \"range\", \"side\"]).reset_index()\n",
    "\n",
    "column_names = (team_game_stats.columns.tolist())\n",
    "team_game_stats.to_csv('team_stats/relational/2025-07-04_team_game_stats.csv',index=False)\n"
   ]
  },
  {
   "cell_type": "code",
   "execution_count": null,
   "id": "522281df-d6eb-43ff-93bc-33f7438b41d8",
   "metadata": {},
   "outputs": [],
   "source": [
    "list_season_stats = []\n",
    "#Combine player season stats\n",
    "folder_path = 'player_stats/'\n",
    "csv_files = glob.glob(os.path.join(folder_path,'*_player_season_stats.csv'))\n",
    "for file in csv_files:\n",
    "    season_stats = pd.read_csv(file)\n",
    "    list_season_stats.append(season_stats)"
   ]
  },
  {
   "cell_type": "code",
   "execution_count": 95,
   "id": "d26462f5-8829-428e-8867-b458bf813cce",
   "metadata": {},
   "outputs": [],
   "source": [
    "player_game_stats = []\n",
    "folder_path = 'player_stats/'\n",
    "#Add player game stats, one row per player per game\n",
    "csv_files = glob.glob(os.path.join(folder_path, '*_player_game_stats.csv'))\n",
    "for file in csv_files:\n",
    "    filename = os.path.basename(file)\n",
    "    game_stats = pd.read_csv(file)\n",
    "    date = filename[:10]\n",
    "    game_stats['group_stat'] = game_stats['stat']+'_'+game_stats['group']\n",
    "    relational_stats = transformEAV(game_stats, index = [\"gamePk\",\"side\",\"playerId\"], output=f\"player_stats/{date}_game_stats.csv\")"
   ]
  },
  {
   "cell_type": "code",
   "execution_count": null,
   "id": "942c40f7-ea7f-4e83-9cfd-294860e4642e",
   "metadata": {},
   "outputs": [],
   "source": []
  }
 ],
 "metadata": {
  "kernelspec": {
   "display_name": "Python 3 (ipykernel)",
   "language": "python",
   "name": "python3"
  },
  "language_info": {
   "codemirror_mode": {
    "name": "ipython",
    "version": 3
   },
   "file_extension": ".py",
   "mimetype": "text/x-python",
   "name": "python",
   "nbconvert_exporter": "python",
   "pygments_lexer": "ipython3",
   "version": "3.10.9"
  }
 },
 "nbformat": 4,
 "nbformat_minor": 5
}
