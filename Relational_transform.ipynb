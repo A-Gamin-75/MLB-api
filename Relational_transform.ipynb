{
 "cells": [
  {
   "cell_type": "code",
   "execution_count": 1,
   "id": "c357d064-82ef-40f1-b3c6-2f83885ace94",
   "metadata": {},
   "outputs": [],
   "source": [
    "import pandas as pd\n",
    "import csv\n",
    "from pprint import pprint\n",
    "import glob\n",
    "import os\n",
    "import sys"
   ]
  },
  {
   "cell_type": "code",
   "execution_count": 2,
   "id": "c71dbe43-320d-473b-8741-8470fef42a32",
   "metadata": {},
   "outputs": [],
   "source": [
    "# File paths\n",
    "PLAYER_STATS_FOLDER = 'stats/player/'\n",
    "TEAM_STATS_FOLDER = 'stats/team/'"
   ]
  },
  {
   "cell_type": "code",
   "execution_count": 3,
   "id": "b128e6d5-4373-47b9-992c-76e54be00e48",
   "metadata": {},
   "outputs": [],
   "source": [
    "def transformEAV(raw, index, values=\"val\", columns=\"group_stat\", aggfunc=\"last\", output=None):\n",
    "    relational_data = raw.pivot_table(\n",
    "        index=index,\n",
    "        columns=columns,\n",
    "        values=values,\n",
    "        aggfunc=aggfunc\n",
    "    ).reset_index()\n",
    "    if output:\n",
    "        relational_data.to_csv(f'{output}',index=False)\n",
    "    return relational_data\n",
    "        "
   ]
  },
  {
   "cell_type": "code",
   "execution_count": 13,
   "id": "862b4497-20a8-49e1-8bd7-1b22d774682e",
   "metadata": {},
   "outputs": [
    {
     "name": "stdout",
     "output_type": "stream",
     "text": [
      "2025_season.csv\n"
     ]
    }
   ],
   "source": [
    "#rel_team_stats = pd.DataFrame()\n",
    "csv_files = glob.glob(os.path.join(TEAM_STATS_FOLDER,'season/*_season.csv'))\n",
    "for file in csv_files:\n",
    "    filename = os.path.basename(file)\n",
    "    print(filename)\n",
    "    team_stats = pd.read_csv(file)\n",
    "    date = filename[:4]\n",
    "    team_stats['group_stat'] = team_stats['group']+'_'+team_stats['stat']\n",
    "    output = f'{TEAM_STATS_FOLDER}relational/{date}_team_season_stats.csv'\n",
    "    relational_stats=transformEAV(team_stats,index=['season','teamId','domain','range','updateDate'],output=output)\n",
    "    # rel_team_stats = pd.concat([rel_team_stats, relational_stats], ignore_index=True,output=output)\n"
   ]
  },
  {
   "cell_type": "code",
   "execution_count": 14,
   "id": "a3458481-00c9-42ec-8f74-0ab582703a43",
   "metadata": {},
   "outputs": [
    {
     "name": "stdout",
     "output_type": "stream",
     "text": [
      "2025-07-13_team_game_stats.csv\n"
     ]
    }
   ],
   "source": [
    "csv_files = glob.glob(os.path.join(TEAM_STATS_FOLDER,\"game/*_team_game_stats.csv\"))\n",
    "for file in csv_files:\n",
    "    filename = os.path.basename(file)\n",
    "    print(filename)\n",
    "    team_game_stats = pd.read_csv(file)\n",
    "    date = filename[:10]\n",
    "    team_game_stats['group_stat'] = team_game_stats['group']+'_'+team_game_stats['stat']\n",
    "    output=f'{TEAM_STATS_FOLDER}relational/{date}_team_game_stats.csv'\n",
    "    relational_stats = transformEAV(team_game_stats,index=['gamePk','gameDate','side','domain','range'],output=output)\n",
    "    # rel_team_stats = pd.concat([rel_team_stats, relational_stats], ignore_index=True,output=output)"
   ]
  },
  {
   "cell_type": "code",
   "execution_count": 12,
   "id": "522281df-d6eb-43ff-93bc-33f7438b41d8",
   "metadata": {},
   "outputs": [
    {
     "name": "stdout",
     "output_type": "stream",
     "text": [
      "2025_player_season_stats.csv\n"
     ]
    }
   ],
   "source": [
    "combined_stats = []\n",
    "#Combine player season stats\n",
    "csv_files = glob.glob(os.path.join(PLAYER_STATS_FOLDER,'season/*_player_season_stats.csv'))\n",
    "for file in csv_files:\n",
    "    season_stats = pd.read_csv(file)\n",
    "    filename = os.path.basename(file)\n",
    "    print(filename)\n",
    "    season = filename[:4]\n",
    "    player_season_stats = pd.read_csv(file)\n",
    "    player_season_stats['group_stat'] = player_season_stats['group']+'_'+player_season_stats['stat']\n",
    "    output=f\"{PLAYER_STATS_FOLDER}/relational/{season}_stats.csv\"\n",
    "    relational_stats = transformEAV(player_season_stats,index=['domain','season','playerId',\"playerName\",\"primaryPosition\",'updateDate'])\n",
    "    combined_stats.append(relational_stats)\n",
    "output_df = pd.concat(combined_stats,ignore_index=True)\n",
    "output_df.to_csv(output,index=False)"
   ]
  },
  {
   "cell_type": "code",
   "execution_count": 10,
   "id": "d26462f5-8829-428e-8867-b458bf813cce",
   "metadata": {},
   "outputs": [
    {
     "name": "stdout",
     "output_type": "stream",
     "text": [
      "2025-07-13_player_game_stats.csv\n"
     ]
    }
   ],
   "source": [
    "combined_stats = []\n",
    "#Add player game stats, one row per player per game\n",
    "csv_files = glob.glob(os.path.join(PLAYER_STATS_FOLDER, 'game/*_player_game_stats.csv'))\n",
    "for file in csv_files:\n",
    "    filename = os.path.basename(file)\n",
    "    print(filename)\n",
    "    game_stats = pd.read_csv(file)\n",
    "    date = filename[:10]\n",
    "    game_stats['group_stat'] = game_stats['group']+'_'+game_stats['stat']\n",
    "    output=f\"{PLAYER_STATS_FOLDER}relational/{date}_game_stats.csv\"\n",
    "    relational_stats = transformEAV(game_stats, index = [\"gamePk\",\"side\",\"playerId\",\"positionsPlayed\"])\n",
    "    combined_stats.append(relational_stats)\n",
    "output_df = pd.concat(combined_stats,ignore_index=True)\n",
    "output_df.to_csv(output,index=False)"
   ]
  },
  {
   "cell_type": "code",
   "execution_count": null,
   "id": "942c40f7-ea7f-4e83-9cfd-294860e4642e",
   "metadata": {},
   "outputs": [],
   "source": []
  }
 ],
 "metadata": {
  "kernelspec": {
   "display_name": "Python 3 (ipykernel)",
   "language": "python",
   "name": "python3"
  },
  "language_info": {
   "codemirror_mode": {
    "name": "ipython",
    "version": 3
   },
   "file_extension": ".py",
   "mimetype": "text/x-python",
   "name": "python",
   "nbconvert_exporter": "python",
   "pygments_lexer": "ipython3",
   "version": "3.10.18"
  }
 },
 "nbformat": 4,
 "nbformat_minor": 5
}
