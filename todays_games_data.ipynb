{
 "cells": [
  {
   "cell_type": "code",
   "execution_count": 2,
   "id": "e815297e-0ecc-4575-84c1-3ed16993ee6d",
   "metadata": {},
   "outputs": [],
   "source": [
    "import requests\n",
    "from datetime import date\n",
    "import sys\n",
    "import statsapi\n",
    "from pprint import pprint\n",
    "import json\n",
    "import os\n",
    "from google.cloud import bigquery\n"
   ]
  },
  {
   "cell_type": "code",
   "execution_count": 2,
   "id": "b61fa70a-3fa3-4444-8d56-37cc7c271419",
   "metadata": {},
   "outputs": [
    {
     "name": "stdout",
     "output_type": "stream",
     "text": [
      "Project: mlb-analysis-463501\n"
     ]
    }
   ],
   "source": [
    "os.environ[\"GOOGLE_APPLICATION_CREDENTIALS\"] = os.path.expanduser(\"~/Documents/jupyter/MLB/credentials/mlb-analysis-463501-869e729270f3.json\")\n",
    "\n",
    "client = bigquery.Client()\n",
    "print(\"Project:\", client.project)"
   ]
  },
  {
   "cell_type": "code",
   "execution_count": 38,
   "id": "aa5597bb-9cb0-48e4-bd7e-9a9bde226ca6",
   "metadata": {},
   "outputs": [
    {
     "name": "stdout",
     "output_type": "stream",
     "text": [
      "[777272, 777284, 777265, 777273, 777290, 777289, 777276, 777294, 777275, 777277, 777279, 777266, 777269, 777270, 777267]\n"
     ]
    }
   ],
   "source": [
    "# # Get today's schedule\n",
    "today = date.today().isoformat() \n",
    "schedule = statsapi.schedule(start_date=today, end_date=today, sportId=1, leagueId=104)\n",
    "\n",
    "mlb = 104\n",
    "currentSeason = 2025\n",
    "\n",
    "#Pull only attribute in list into new array\n",
    "gamePks = [game['game_id'] for game in schedule]\n",
    "print(gamePks)"
   ]
  },
  {
   "cell_type": "code",
   "execution_count": 54,
   "id": "473aa729-60ee-4eb0-b79c-3f45263beb4b",
   "metadata": {},
   "outputs": [],
   "source": [
    "#Helper function for team stats by season\n",
    "def team_stat_data(team, group, season, stats='season'):\n",
    "    url = f\"https://statsapi.mlb.com/api/v1/teams/{team_id}/stats\"\n",
    "    params = {\n",
    "        \"season\": season,\n",
    "        \"group\": group,\n",
    "        \"stats\": stats\n",
    "    }\n",
    "    r = requests.get(url, params=params)\n",
    "    r.raise_for_status()\n",
    "    return r.json()[\"stats\"][0][\"splits\"][0]"
   ]
  },
  {
   "cell_type": "code",
   "execution_count": 59,
   "id": "e8ca11e3-89bd-44a0-b4ee-f6b9b68ea450",
   "metadata": {},
   "outputs": [
    {
     "ename": "AttributeError",
     "evalue": "'dict' object has no attribute 'append'",
     "output_type": "error",
     "traceback": [
      "\u001b[1;31m---------------------------------------------------------------------------\u001b[0m",
      "\u001b[1;31mAttributeError\u001b[0m                            Traceback (most recent call last)",
      "Cell \u001b[1;32mIn[59], line 24\u001b[0m\n\u001b[0;32m     22\u001b[0m pitching_stats \u001b[38;5;241m=\u001b[39m team_stat_data(team \u001b[38;5;241m=\u001b[39m team_id, group \u001b[38;5;241m=\u001b[39m \u001b[38;5;124m\"\u001b[39m\u001b[38;5;124mpitching\u001b[39m\u001b[38;5;124m\"\u001b[39m, season \u001b[38;5;241m=\u001b[39m currentSeason)[\u001b[38;5;124m\"\u001b[39m\u001b[38;5;124mstat\u001b[39m\u001b[38;5;124m\"\u001b[39m]\n\u001b[0;32m     23\u001b[0m fielding_stats \u001b[38;5;241m=\u001b[39m team_stat_data(team \u001b[38;5;241m=\u001b[39m team_id, group \u001b[38;5;241m=\u001b[39m \u001b[38;5;124m\"\u001b[39m\u001b[38;5;124mfielding\u001b[39m\u001b[38;5;124m\"\u001b[39m, season \u001b[38;5;241m=\u001b[39m currentSeason)[\u001b[38;5;124m\"\u001b[39m\u001b[38;5;124mstat\u001b[39m\u001b[38;5;124m\"\u001b[39m]\n\u001b[1;32m---> 24\u001b[0m \u001b[43mhitting_stats\u001b[49m\u001b[38;5;241;43m.\u001b[39;49m\u001b[43mappend\u001b[49m({\u001b[38;5;124m\"\u001b[39m\u001b[38;5;124mtype\u001b[39m\u001b[38;5;124m\"\u001b[39m: \u001b[38;5;124m\"\u001b[39m\u001b[38;5;124mhitting\u001b[39m\u001b[38;5;124m\"\u001b[39m})\n\u001b[0;32m     25\u001b[0m pitching_stats\u001b[38;5;241m.\u001b[39mappend({\u001b[38;5;124m\"\u001b[39m\u001b[38;5;124mtype\u001b[39m\u001b[38;5;124m\"\u001b[39m: \u001b[38;5;124m\"\u001b[39m\u001b[38;5;124mpitching\u001b[39m\u001b[38;5;124m\"\u001b[39m})\n\u001b[0;32m     26\u001b[0m fielding_stats\u001b[38;5;241m.\u001b[39mappend({\u001b[38;5;124m\"\u001b[39m\u001b[38;5;124mtype\u001b[39m\u001b[38;5;124m\"\u001b[39m: \u001b[38;5;124m\"\u001b[39m\u001b[38;5;124mfielding\u001b[39m\u001b[38;5;124m\"\u001b[39m})\n",
      "\u001b[1;31mAttributeError\u001b[0m: 'dict' object has no attribute 'append'"
     ]
    }
   ],
   "source": [
    "#Create table for todays games (primary key gamePk)\n",
    "games = []\n",
    "teams = []\n",
    "team_stats = []\n",
    "players = []\n",
    "player_game_stats = []\n",
    "for game_pk in gamePks:\n",
    "    game = statsapi.get(\"game\", {\"gamePk\": game_pk})\n",
    "    gamedata = game['gameData']\n",
    "    games.append({\n",
    "        \"gamePk\": game_pk,\n",
    "        \"datetime\": gamedata['datetime']['dateTime'],\n",
    "        \"venue_id\": gamedata['venue']['id'],\n",
    "        \"status\": game['gameData']['status']['detailedState'],\n",
    "        \"weather\": game.get(\"weather\", {}).get(\"condition\"),\n",
    "        \"doubleHeader\": gamedata['game']['doubleHeader']\n",
    "    })\n",
    "    for side in [\"home\", \"away\"]:\n",
    "        team = gamedata[\"teams\"][side]\n",
    "        team_id = team[\"id\"]\n",
    "        hitting_stats = team_stat_data(team = team_id, group = \"hitting\", season = currentSeason)[\"stat\"]\n",
    "        pitching_stats = team_stat_data(team = team_id, group = \"pitching\", season = currentSeason)[\"stat\"]\n",
    "        fielding_stats = team_stat_data(team = team_id, group = \"fielding\", season = currentSeason)[\"stat\"]\n",
    "        hitting_stats[\"type\"] = \"hitting\"\n",
    "        pitching_stats[\"type\"] = \"pitching\"\n",
    "        fielding_stats[\"type\"] = \"fielding\"\n",
    "        teams.append({\n",
    "            \"team_id\": team[\"id\"],\n",
    "            \"name\": team[\"name\"],\n",
    "            \"side\": side,\n",
    "            \"gamePk\": game_pk,\n",
    "            \"league\": team[\"league\"],\n",
    "            \"division\": team[\"division\"]\n",
    "        })\n",
    "        team_stats.append({\n",
    "            \"team_id\": team[\"id\"],\n",
    "            \"season\": currentSeason\n",
    "        })\n",
    "        team_stats.append(hitting_stats)\n",
    "        team_stats.append(pitching_stats)\n",
    "        team_stats.append(fielding_stats)\n",
    "        pprint(team_stats)\n",
    "        sys.exit()\n",
    "        time.sleep(2)\n",
    "pprint(teams)"
   ]
  },
  {
   "cell_type": "code",
   "execution_count": null,
   "id": "1609209d-7455-4870-aab6-143fd76af8de",
   "metadata": {},
   "outputs": [],
   "source": []
  }
 ],
 "metadata": {
  "kernelspec": {
   "display_name": "Python 3 (ipykernel)",
   "language": "python",
   "name": "python3"
  },
  "language_info": {
   "codemirror_mode": {
    "name": "ipython",
    "version": 3
   },
   "file_extension": ".py",
   "mimetype": "text/x-python",
   "name": "python",
   "nbconvert_exporter": "python",
   "pygments_lexer": "ipython3",
   "version": "3.10.9"
  }
 },
 "nbformat": 4,
 "nbformat_minor": 5
}
