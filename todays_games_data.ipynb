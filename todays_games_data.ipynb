{
 "cells": [
  {
   "cell_type": "code",
   "execution_count": 266,
   "id": "e815297e-0ecc-4575-84c1-3ed16993ee6d",
   "metadata": {},
   "outputs": [],
   "source": [
    "import requests\n",
    "from datetime import date, timedelta, datetime\n",
    "import time\n",
    "import sys\n",
    "import statsapi\n",
    "from pprint import pprint\n",
    "import json\n",
    "import os\n",
    "import csv\n",
    "# from google.cloud import bigquery\n",
    "\n"
   ]
  },
  {
   "cell_type": "code",
   "execution_count": 2,
   "id": "b61fa70a-3fa3-4444-8d56-37cc7c271419",
   "metadata": {},
   "outputs": [
    {
     "name": "stdout",
     "output_type": "stream",
     "text": [
      "Project: mlb-analysis-463501\n"
     ]
    }
   ],
   "source": [
    "os.environ[\"GOOGLE_APPLICATION_CREDENTIALS\"] = os.path.expanduser(\"~/Documents/jupyter/MLB/credentials/mlb-analysis-463501-869e729270f3.json\")\n",
    "\n",
    "client = bigquery.Client()\n",
    "print(\"Project:\", client.project)"
   ]
  },
  {
   "cell_type": "code",
   "execution_count": null,
   "id": "15810786-37fc-48b7-8144-95701feab3e9",
   "metadata": {},
   "outputs": [],
   "source": [
    "#constant values\n",
    "mlb = 104\n",
    "currentSeason = 2025"
   ]
  },
  {
   "cell_type": "code",
   "execution_count": 142,
   "id": "e8277939-67de-4878-aeae-8f497439c73d",
   "metadata": {},
   "outputs": [],
   "source": [
    "games = []\n",
    "seen_games = set()"
   ]
  },
  {
   "cell_type": "code",
   "execution_count": 78,
   "id": "473aa729-60ee-4eb0-b79c-3f45263beb4b",
   "metadata": {},
   "outputs": [],
   "source": [
    "#Helper function for team stats by season\n",
    "def team_stat_data(team, group, season, stats='season'):\n",
    "    url = f\"https://statsapi.mlb.com/api/v1/teams/{team_id}/stats\"\n",
    "    params = {\n",
    "        \"season\": season,\n",
    "        \"group\": group,\n",
    "        \"stats\": stats\n",
    "    }\n",
    "    r = requests.get(url, params=params)\n",
    "    r.raise_for_status()\n",
    "    return r.json()[\"stats\"][0][\"splits\"][0]"
   ]
  },
  {
   "cell_type": "code",
   "execution_count": null,
   "id": "aa5597bb-9cb0-48e4-bd7e-9a9bde226ca6",
   "metadata": {},
   "outputs": [],
   "source": [
    "# # Get today's schedule\n",
    "today = date.today()\n",
    "yesterday = today - timedelta(days = 1)\n",
    "yesterday = yesterday.isoformat()\n",
    "schedule = statsapi.schedule(start_date=yesterday, end_date=yesterday, sportId=1, leagueId=104)\n",
    "\n",
    "\n",
    "#Pull only attribute in list into new array and add relevant fields\n",
    "#gamePks = [game['game_id'] for game in schedule]\n",
    "\n",
    "#Pull available game data from schedule\n",
    "#Each new dictionary counts as one row \n",
    "for game in schedule:\n",
    "    gamePk = game['game_id']\n",
    "    if gamePk in seen_games:\n",
    "        continue\n",
    "    games.append({\n",
    "        \"gamePk\": game['game_id'],\n",
    "        \"gametime\": game['game_datetime'],\n",
    "        \"awayId\": game['away_id'],\n",
    "        \"homeId\": game['home_id']\n",
    "    })\n",
    "    seen_games.add(game['game_id'])\n",
    "    \n",
    "    #Get weather\n",
    "        boxscore = statsapi.get(\"game_boxscore\", {'gamePk': gamePk})\n",
    "        for item in boxscore['info']:\n",
    "            if item['label'] == \"Weather\":\n",
    "                games.append({\n",
    "                    \"gamePk\": game_pk,\n",
    "                    \"weather\": item['value']\n",
    "                })\n",
    "                    \n",
    "        pprint(games)\n",
    "        sys.exit()\n",
    "    \n",
    "# games_dict = {g['gamePk']: g for g in games}\n",
    "# games = list(games_dict.values())\n",
    "\n",
    "pprint(games)"
   ]
  },
  {
   "cell_type": "code",
   "execution_count": 214,
   "id": "0d06ee9e-77e8-426d-89a7-e2030598d84f",
   "metadata": {},
   "outputs": [],
   "source": [
    "#create empty arrays for storing tables\n",
    "team_game_stats = []\n",
    "games = []\n",
    "player_game_stats = []"
   ]
  },
  {
   "cell_type": "code",
   "execution_count": 174,
   "id": "c9e1f804-8854-433c-8478-9e57147ff35d",
   "metadata": {},
   "outputs": [],
   "source": [
    "teams = {}\n",
    "players = {}"
   ]
  },
  {
   "cell_type": "code",
   "execution_count": 215,
   "id": "46273d28-515a-4f02-975f-30b14c680a0a",
   "metadata": {},
   "outputs": [
    {
     "name": "stdout",
     "output_type": "stream",
     "text": [
      "dict_keys(['copyright', 'teams', 'officials', 'info', 'pitchingNotes', 'topPerformers'])\n"
     ]
    }
   ],
   "source": [
    "print(boxscore.keys())"
   ]
  },
  {
   "cell_type": "code",
   "execution_count": null,
   "id": "1609209d-7455-4870-aab6-143fd76af8de",
   "metadata": {},
   "outputs": [
    {
     "name": "stdout",
     "output_type": "stream",
     "text": [
      "Loaded home team data from game: STL vs. PIT\n",
      "Loaded player data for Alexander Canario in game: STL vs. PIT\n",
      "Loaded player data for Adam Frazier in game: STL vs. PIT\n",
      "Loaded player data for Spencer Horwitz in game: STL vs. PIT\n",
      "Loaded player data for Bryan Reynolds in game: STL vs. PIT\n",
      "Loaded player data for Joey Bart in game: STL vs. PIT\n",
      "Loaded player data for Oneil Cruz in game: STL vs. PIT\n",
      "Loaded player data for Ke'Bryan Hayes in game: STL vs. PIT\n",
      "Loaded player data for Jared Triolo in game: STL vs. PIT\n",
      "Loaded player data for Tommy Pham in game: STL vs. PIT\n",
      "Loaded player data for Andrew McCutchen in game: STL vs. PIT\n",
      "Loaded player data for Isiah Kiner-Falefa in game: STL vs. PIT\n",
      "Loaded player data for Henry Davis in game: STL vs. PIT\n",
      "Loaded player data for Nick Gonzales in game: STL vs. PIT\n",
      "Loaded away team data from game: STL vs. PIT\n",
      "Loaded player data for Nolan Gorman in game: STL vs. PIT\n",
      "Loaded player data for Victor Scott II in game: STL vs. PIT\n",
      "Loaded player data for Willson Contreras in game: STL vs. PIT\n",
      "Loaded player data for Nolan Arenado in game: STL vs. PIT\n",
      "Loaded player data for Lars Nootbaar in game: STL vs. PIT\n",
      "Loaded player data for José Fermín in game: STL vs. PIT\n",
      "Loaded player data for Garrett Hampson in game: STL vs. PIT\n",
      "Loaded player data for Alec Burleson in game: STL vs. PIT\n",
      "Loaded player data for Thomas Saggese in game: STL vs. PIT\n",
      "Loaded player data for Yohel Pozo in game: STL vs. PIT\n",
      "Loaded player data for Pedro Pagés in game: STL vs. PIT\n",
      "Loaded player data for Brendan Donovan in game: STL vs. PIT\n",
      "Loaded player data for Masyn Winn in game: STL vs. PIT\n",
      "Loaded home team data from game: DET vs. WSH\n",
      "Loaded player data for Brady House in game: DET vs. WSH\n",
      "Loaded player data for CJ Abrams in game: DET vs. WSH\n",
      "Loaded player data for Drew Millas in game: DET vs. WSH\n",
      "Loaded player data for Riley Adams in game: DET vs. WSH\n",
      "Loaded player data for Nathaniel Lowe in game: DET vs. WSH\n",
      "Loaded player data for Amed Rosario in game: DET vs. WSH\n",
      "Loaded player data for Josh Bell in game: DET vs. WSH\n",
      "Loaded player data for Paul DeJong in game: DET vs. WSH\n"
     ]
    }
   ],
   "source": [
    "team_game_stats = []\n",
    "player_game_stats = []\n",
    "games_today = []\n",
    "\n",
    "#Get team stats for games today and player stats by game\n",
    "team_game_stats.append(\"attribute, statistic, value, gamePk, playerId\") #Header row\n",
    "for g in games:\n",
    "    gamePk = g['gamePk']\n",
    "    boxscore = statsapi.get(\"game_boxscore\", {'gamePk': gamePk})\n",
    "    for side in [\"home\", \"away\"]:\n",
    "        #Add game stats for each team in todays games\n",
    "        team_stats = boxscore[\"teams\"][side][\"teamStats\"]\n",
    "        # Create data structure {team_game_stats} to hold game data, team statistics and player statistics by season and game\n",
    "        #Batting stats (KAV + Game structure)\n",
    "        for stat, val in team_stats['batting'].items():\n",
    "            team_game_stats.append(f\"stat_team_batting, {stat}, {val}, {gamePk},\")\n",
    "        for stat, val in away_stats['pitching'].items():\n",
    "            team_game_stats.append(f\"stat_team_pitching, {stat}, {val}, {gamePk},\")\n",
    "        for stat, val in away_stats['fielding'].items():\n",
    "            team_game_stats.append(f\"stat_team_fielding, {stat}, {val}, {gamePk},\")\n",
    "        print(f\"Loaded {side} team data from game: {boxscore['teams']['away']['team']['abbreviation']} vs. {boxscore['teams']['home']['team']['abbreviation']}\")\n",
    "        #Player stats (KAV + game + player ID) only if they played any positions\n",
    "        for player_key, player_data in boxscore[\"teams\"][side][\"players\"].items():\n",
    "            player_id = player_data[\"person\"][\"id\"]  # ✅ This is the integer ID\n",
    "            url = f\"https://statsapi.mlb.com/api/v1/people/{player_id}/stats\"\n",
    "            params = {\"gamePk\": gamePk, \"stats\": \"gameLog\"}\n",
    "            response = requests.get(url, params=params)\n",
    "            player_stats = response.json()\n",
    "            player_name = player_data['person']['fullName']\n",
    "            player_stats = player_stats['stats'][0]['splits'][0]\n",
    "            if('positionsPlayed' not in player_stats):\n",
    "                continue\n",
    "            if any(pos['code'] == 'P' for pos in player_stats['positionsPlayed']):\n",
    "                for stat, val in player_stats['stat']:\n",
    "                    player_game_stats.append(f\"stat_player_pitching, {stat}, {val}, {gamePk}, {player_id}\")\n",
    "                    sys.exit()\n",
    "            else:\n",
    "                for stat_val in player_stats['stat']:\n",
    "                    player_game_stats.append(f\"stat_player_hitting, {stat}, {val}, {gamePk}, {player_id}\")\n",
    "            print(f\"Loaded player data for {player_name} in game: {boxscore['teams']['away']['team']['abbreviation']} vs. {boxscore['teams']['home']['team']['abbreviation']}\")\n",
    "            # sys.exit()\n",
    "            \n",
    "\n",
    "print(player_game_stats[0])\n",
    "sys.exit()\n",
    "with open(\"player_game_stats.csv\", mode=\"w\", newline=\"\", encoding=\"utf-8\") as file:\n",
    "    # Step 2: Create writer with header\n",
    "    writer = csv.DictWriter(file, fieldnames=player_game_stats[0].keys())\n",
    "\n",
    "    writer.writeheader()  # Step 3: Write header\n",
    "    writer.writerows(player_game_stats)  # Step 4: Write rows     "
   ]
  },
  {
   "cell_type": "code",
   "execution_count": null,
   "id": "bfc67d4f-774b-4711-825c-aca7d987621c",
   "metadata": {},
   "outputs": [],
   "source": []
  }
 ],
 "metadata": {
  "kernelspec": {
   "display_name": "Python 3 (ipykernel)",
   "language": "python",
   "name": "python3"
  },
  "language_info": {
   "codemirror_mode": {
    "name": "ipython",
    "version": 3
   },
   "file_extension": ".py",
   "mimetype": "text/x-python",
   "name": "python",
   "nbconvert_exporter": "python",
   "pygments_lexer": "ipython3",
   "version": "3.10.9"
  }
 },
 "nbformat": 4,
 "nbformat_minor": 5
}
