{
 "cells": [
  {
   "cell_type": "code",
   "execution_count": 8,
   "id": "6901e724-8c24-4d89-81bf-11821b36d897",
   "metadata": {},
   "outputs": [],
   "source": [
    "import pandas as pd\n",
    "import matplotlib\n",
    "import csv\n",
    "from pprint import pprint\n",
    "import glob\n",
    "import os\n",
    "import sys"
   ]
  },
  {
   "cell_type": "code",
   "execution_count": 9,
   "id": "a1865969-806b-4d3c-b88b-dc9f88f60ff7",
   "metadata": {},
   "outputs": [],
   "source": [
    "# File paths\n",
    "PLAYER_STATS_FOLDER = 'stats/player/'\n",
    "TEAM_STATS_FOLDER = 'stats/team/'"
   ]
  },
  {
   "cell_type": "markdown",
   "id": "c7462e54-521c-4e22-b74a-6ddd5875676e",
   "metadata": {},
   "source": []
  },
  {
   "cell_type": "code",
   "execution_count": 25,
   "id": "a75d56f6-b6bd-4209-992f-26575e119343",
   "metadata": {},
   "outputs": [],
   "source": [
    "game_stats = pd.read_csv(f\"{PLAYER_STATS_FOLDER}relational/2025-07-13_game_stats.csv\")\n",
    "szn_stats = pd.read_csv(f\"{PLAYER_STATS_FOLDER}relational/2025_stats.csv\")"
   ]
  },
  {
   "cell_type": "code",
   "execution_count": 33,
   "id": "e32df58f-25eb-4c10-92af-297943347402",
   "metadata": {},
   "outputs": [
    {
     "name": "stdout",
     "output_type": "stream",
     "text": [
      "['C' 'P' 'RF' '1B' 'LF' 'DH' '3B' '2B' 'SS' 'CF' 'TWP']\n"
     ]
    }
   ],
   "source": [
    "print(szn_stats['primaryPosition'].unique())"
   ]
  },
  {
   "cell_type": "code",
   "execution_count": 36,
   "id": "d59e3b08-6dbd-4782-b363-fce77624b068",
   "metadata": {},
   "outputs": [
    {
     "name": "stdout",
     "output_type": "stream",
     "text": [
      "    domain  season  playerId        playerName primaryPosition  updateDate  \\\n",
      "3   player    2025    457759     Justin Turner              1B  2025-07-13   \n",
      "4   player    2025    467793    Carlos Santana              1B  2025-07-13   \n",
      "6   player    2025    502671  Paul Goldschmidt              1B  2025-07-13   \n",
      "10  player    2025    518692   Freddie Freeman              1B  2025-07-13   \n",
      "21  player    2025    547180      Bryce Harper              1B  2025-07-13   \n",
      "\n",
      "    fielding_airOuts  fielding_atBats fielding_atBatsPerHomeRun  fielding_avg  \\\n",
      "3                 42              112                     56.00         0.214   \n",
      "4                101              310                     28.18         0.232   \n",
      "6                 97              334                     41.75         0.287   \n",
      "10                76              312                     31.20         0.295   \n",
      "21                69              250                     25.00         0.260   \n",
      "\n",
      "    ...  pitching_strikeoutWalkRatio  pitching_strikeoutsPer9Inn  \\\n",
      "3   ...                          NaN                         NaN   \n",
      "4   ...                          NaN                         NaN   \n",
      "6   ...                          NaN                         NaN   \n",
      "10  ...                          NaN                         NaN   \n",
      "21  ...                          NaN                         NaN   \n",
      "\n",
      "    pitching_strikes  pitching_totalBases  pitching_triples  \\\n",
      "3                NaN                   33                 0   \n",
      "4                NaN                  112                 0   \n",
      "6                NaN                  144                 1   \n",
      "10               NaN                  148                 1   \n",
      "21               NaN                  112                 0   \n",
      "\n",
      "    pitching_walksPer9Inn  pitching_whip  pitching_wildPitches  \\\n",
      "3                     NaN            NaN                   NaN   \n",
      "4                     NaN            NaN                   NaN   \n",
      "6                     NaN            NaN                   NaN   \n",
      "10                    NaN            NaN                   NaN   \n",
      "21                    NaN            NaN                   NaN   \n",
      "\n",
      "    pitching_winPercentage  pitching_wins  \n",
      "3                      NaN            NaN  \n",
      "4                      NaN            NaN  \n",
      "6                      NaN            NaN  \n",
      "10                     NaN            NaN  \n",
      "21                     NaN            NaN  \n",
      "\n",
      "[5 rows x 201 columns]\n"
     ]
    }
   ],
   "source": [
    "szn_grouped = szn_stats.groupby(szn_stats.primaryPosition)\n",
    "pitcher_stats = szn_grouped.get_group(\"P\")\n",
    "firstbase_stats = szn_grouped.get_group(\"1B\")\n",
    "print(firstbase_stats.head())"
   ]
  },
  {
   "cell_type": "code",
   "execution_count": 29,
   "id": "c57379f6-831d-4c86-a77d-7dada200be47",
   "metadata": {},
   "outputs": [
    {
     "data": {
      "text/html": [
       "<div>\n",
       "<style scoped>\n",
       "    .dataframe tbody tr th:only-of-type {\n",
       "        vertical-align: middle;\n",
       "    }\n",
       "\n",
       "    .dataframe tbody tr th {\n",
       "        vertical-align: top;\n",
       "    }\n",
       "\n",
       "    .dataframe thead th {\n",
       "        text-align: right;\n",
       "    }\n",
       "</style>\n",
       "<table border=\"1\" class=\"dataframe\">\n",
       "  <thead>\n",
       "    <tr style=\"text-align: right;\">\n",
       "      <th></th>\n",
       "      <th>domain</th>\n",
       "      <th>season</th>\n",
       "      <th>playerId</th>\n",
       "      <th>playerName</th>\n",
       "      <th>primaryPosition</th>\n",
       "      <th>updateDate</th>\n",
       "      <th>fielding_airOuts</th>\n",
       "      <th>fielding_atBats</th>\n",
       "      <th>fielding_atBatsPerHomeRun</th>\n",
       "      <th>fielding_avg</th>\n",
       "      <th>...</th>\n",
       "      <th>pitching_strikeoutWalkRatio</th>\n",
       "      <th>pitching_strikeoutsPer9Inn</th>\n",
       "      <th>pitching_strikes</th>\n",
       "      <th>pitching_totalBases</th>\n",
       "      <th>pitching_triples</th>\n",
       "      <th>pitching_walksPer9Inn</th>\n",
       "      <th>pitching_whip</th>\n",
       "      <th>pitching_wildPitches</th>\n",
       "      <th>pitching_winPercentage</th>\n",
       "      <th>pitching_wins</th>\n",
       "    </tr>\n",
       "  </thead>\n",
       "  <tbody>\n",
       "    <tr>\n",
       "      <th>1</th>\n",
       "      <td>player</td>\n",
       "      <td>2025</td>\n",
       "      <td>455119</td>\n",
       "      <td>Chris Martin</td>\n",
       "      <td>P</td>\n",
       "      <td>2025-07-13</td>\n",
       "      <td>34</td>\n",
       "      <td>126</td>\n",
       "      <td>NaN</td>\n",
       "      <td>0.238</td>\n",
       "      <td>...</td>\n",
       "      <td>6.80</td>\n",
       "      <td>9.37</td>\n",
       "      <td>330.0</td>\n",
       "      <td>44</td>\n",
       "      <td>0</td>\n",
       "      <td>1.38</td>\n",
       "      <td>1.07</td>\n",
       "      <td>1.0</td>\n",
       "      <td>.000</td>\n",
       "      <td>0.0</td>\n",
       "    </tr>\n",
       "    <tr>\n",
       "      <th>7</th>\n",
       "      <td>player</td>\n",
       "      <td>2025</td>\n",
       "      <td>506433</td>\n",
       "      <td>Yu Darvish</td>\n",
       "      <td>P</td>\n",
       "      <td>2025-07-13</td>\n",
       "      <td>6</td>\n",
       "      <td>31</td>\n",
       "      <td>NaN</td>\n",
       "      <td>0.258</td>\n",
       "      <td>...</td>\n",
       "      <td>1.17</td>\n",
       "      <td>7.56</td>\n",
       "      <td>87.0</td>\n",
       "      <td>12</td>\n",
       "      <td>0</td>\n",
       "      <td>6.48</td>\n",
       "      <td>1.68</td>\n",
       "      <td>1.0</td>\n",
       "      <td>.000</td>\n",
       "      <td>0.0</td>\n",
       "    </tr>\n",
       "    <tr>\n",
       "      <th>22</th>\n",
       "      <td>player</td>\n",
       "      <td>2025</td>\n",
       "      <td>547184</td>\n",
       "      <td>Michael Kelly</td>\n",
       "      <td>P</td>\n",
       "      <td>2025-07-13</td>\n",
       "      <td>16</td>\n",
       "      <td>43</td>\n",
       "      <td>NaN</td>\n",
       "      <td>0.209</td>\n",
       "      <td>...</td>\n",
       "      <td>1.00</td>\n",
       "      <td>5.54</td>\n",
       "      <td>119.0</td>\n",
       "      <td>16</td>\n",
       "      <td>0</td>\n",
       "      <td>5.54</td>\n",
       "      <td>1.31</td>\n",
       "      <td>1.0</td>\n",
       "      <td>1.000</td>\n",
       "      <td>2.0</td>\n",
       "    </tr>\n",
       "    <tr>\n",
       "      <th>24</th>\n",
       "      <td>player</td>\n",
       "      <td>2025</td>\n",
       "      <td>554430</td>\n",
       "      <td>Zack Wheeler</td>\n",
       "      <td>P</td>\n",
       "      <td>2025-07-13</td>\n",
       "      <td>102</td>\n",
       "      <td>436</td>\n",
       "      <td>NaN</td>\n",
       "      <td>0.181</td>\n",
       "      <td>...</td>\n",
       "      <td>5.92</td>\n",
       "      <td>11.36</td>\n",
       "      <td>1239.0</td>\n",
       "      <td>137</td>\n",
       "      <td>1</td>\n",
       "      <td>1.92</td>\n",
       "      <td>0.86</td>\n",
       "      <td>1.0</td>\n",
       "      <td>.750</td>\n",
       "      <td>9.0</td>\n",
       "    </tr>\n",
       "    <tr>\n",
       "      <th>25</th>\n",
       "      <td>player</td>\n",
       "      <td>2025</td>\n",
       "      <td>571510</td>\n",
       "      <td>Matthew Boyd</td>\n",
       "      <td>P</td>\n",
       "      <td>2025-07-13</td>\n",
       "      <td>136</td>\n",
       "      <td>406</td>\n",
       "      <td>NaN</td>\n",
       "      <td>0.227</td>\n",
       "      <td>...</td>\n",
       "      <td>4.43</td>\n",
       "      <td>8.22</td>\n",
       "      <td>1145.0</td>\n",
       "      <td>141</td>\n",
       "      <td>2</td>\n",
       "      <td>1.85</td>\n",
       "      <td>1.03</td>\n",
       "      <td>1.0</td>\n",
       "      <td>.769</td>\n",
       "      <td>10.0</td>\n",
       "    </tr>\n",
       "  </tbody>\n",
       "</table>\n",
       "<p>5 rows × 201 columns</p>\n",
       "</div>"
      ],
      "text/plain": [
       "    domain  season  playerId     playerName primaryPosition  updateDate  \\\n",
       "1   player    2025    455119   Chris Martin               P  2025-07-13   \n",
       "7   player    2025    506433     Yu Darvish               P  2025-07-13   \n",
       "22  player    2025    547184  Michael Kelly               P  2025-07-13   \n",
       "24  player    2025    554430   Zack Wheeler               P  2025-07-13   \n",
       "25  player    2025    571510   Matthew Boyd               P  2025-07-13   \n",
       "\n",
       "    fielding_airOuts  fielding_atBats fielding_atBatsPerHomeRun  fielding_avg  \\\n",
       "1                 34              126                       NaN         0.238   \n",
       "7                  6               31                       NaN         0.258   \n",
       "22                16               43                       NaN         0.209   \n",
       "24               102              436                       NaN         0.181   \n",
       "25               136              406                       NaN         0.227   \n",
       "\n",
       "    ...  pitching_strikeoutWalkRatio  pitching_strikeoutsPer9Inn  \\\n",
       "1   ...                         6.80                        9.37   \n",
       "7   ...                         1.17                        7.56   \n",
       "22  ...                         1.00                        5.54   \n",
       "24  ...                         5.92                       11.36   \n",
       "25  ...                         4.43                        8.22   \n",
       "\n",
       "    pitching_strikes  pitching_totalBases  pitching_triples  \\\n",
       "1              330.0                   44                 0   \n",
       "7               87.0                   12                 0   \n",
       "22             119.0                   16                 0   \n",
       "24            1239.0                  137                 1   \n",
       "25            1145.0                  141                 2   \n",
       "\n",
       "    pitching_walksPer9Inn  pitching_whip  pitching_wildPitches  \\\n",
       "1                    1.38           1.07                   1.0   \n",
       "7                    6.48           1.68                   1.0   \n",
       "22                   5.54           1.31                   1.0   \n",
       "24                   1.92           0.86                   1.0   \n",
       "25                   1.85           1.03                   1.0   \n",
       "\n",
       "    pitching_winPercentage  pitching_wins  \n",
       "1                     .000            0.0  \n",
       "7                     .000            0.0  \n",
       "22                   1.000            2.0  \n",
       "24                    .750            9.0  \n",
       "25                    .769           10.0  \n",
       "\n",
       "[5 rows x 201 columns]"
      ]
     },
     "execution_count": 29,
     "metadata": {},
     "output_type": "execute_result"
    },
    {
     "data": {
      "image/png": "[encoded data removed]",
      "text/plain": [
       "<Figure size 640x480 with 1 Axes>"
      ]
     },
     "metadata": {},
     "output_type": "display_data"
    }
   ],
   "source": [
    "szn_stats['pitching_leftOnBase'].plot.hist()\n",
    "szn_stats['pitching_baseOnBalls'].plot.hist()\n",
    "pitcher_stats.head()"
   ]
  },
  {
   "cell_type": "code",
   "execution_count": 21,
   "id": "de39b2d1-e35c-468b-8628-cc8faaab421d",
   "metadata": {},
   "outputs": [
    {
     "data": {
      "text/plain": [
       "<Axes: ylabel='Frequency'>"
      ]
     },
     "execution_count": 21,
     "metadata": {},
     "output_type": "execute_result"
    },
    {
     "data": {
      "image/png": "[encoded data removed]",
      "text/plain": [
       "<Figure size 640x480 with 1 Axes>"
      ]
     },
     "metadata": {},
     "output_type": "display_data"
    }
   ],
   "source": [
    "szn_stats['pitching_strikePercentage'].plot.hist()"
   ]
  },
  {
   "cell_type": "markdown",
   "id": "be26ad34-869f-4c2f-b9ab-14ea24e7bba9",
   "metadata": {},
   "source": [
    "print(szn_stats['pitching_inningsPitched'])\n",
    "szn_stats['pitching_inningsPitched'].plot.hist()"
   ]
  },
  {
   "cell_type": "code",
   "execution_count": 25,
   "id": "5131d9c4-cf32-460e-bcdc-c8e13a4cf3b4",
   "metadata": {},
   "outputs": [
    {
     "ename": "AttributeError",
     "evalue": "Can only use .str accessor with string values!",
     "output_type": "error",
     "traceback": [
      "\u001b[0;31m---------------------------------------------------------------------------\u001b[0m",
      "\u001b[0;31mAttributeError\u001b[0m                            Traceback (most recent call last)",
      "Cell \u001b[0;32mIn[25], line 1\u001b[0m\n\u001b[0;32m----> 1\u001b[0m szn_stats[\u001b[38;5;124m'\u001b[39m\u001b[38;5;124mpitching_inningsPitchedDecimal\u001b[39m\u001b[38;5;124m'\u001b[39m] \u001b[38;5;241m=\u001b[39m \u001b[43mszn_stats\u001b[49m\u001b[43m[\u001b[49m\u001b[38;5;124;43m'\u001b[39;49m\u001b[38;5;124;43mpitching_inningsPitched\u001b[39;49m\u001b[38;5;124;43m'\u001b[39;49m\u001b[43m]\u001b[49m\u001b[38;5;241;43m.\u001b[39;49m\u001b[43mstr\u001b[49m\u001b[38;5;241m.\u001b[39mrsplit(\u001b[38;5;124m'\u001b[39m\u001b[38;5;124m.\u001b[39m\u001b[38;5;124m'\u001b[39m)[\u001b[38;5;241m0\u001b[39m] \u001b[38;5;241m+\u001b[39m (\u001b[38;5;241m0.333\u001b[39m \u001b[38;5;241m*\u001b[39m szn_stats[\u001b[38;5;124m'\u001b[39m\u001b[38;5;124mpitching_inningsPitched\u001b[39m\u001b[38;5;124m'\u001b[39m]\u001b[38;5;241m.\u001b[39mstr\u001b[38;5;241m.\u001b[39mrsplit(\u001b[38;5;124m'\u001b[39m\u001b[38;5;124m.\u001b[39m\u001b[38;5;124m'\u001b[39m)[\u001b[38;5;241m1\u001b[39m])\n\u001b[1;32m      2\u001b[0m szn_stats[\u001b[38;5;124m'\u001b[39m\u001b[38;5;124mpitching_baseOnBallsAvg\u001b[39m\u001b[38;5;124m'\u001b[39m] \u001b[38;5;241m=\u001b[39m szn_stats[\u001b[38;5;124m'\u001b[39m\u001b[38;5;124mpitching_baseOnBalls\u001b[39m\u001b[38;5;124m'\u001b[39m] \u001b[38;5;241m/\u001b[39m szn_stats[\u001b[38;5;124m'\u001b[39m\u001b[38;5;124mpitching_inningsPitchedDeceimal\u001b[39m\u001b[38;5;124m'\u001b[39m]\n",
      "File \u001b[0;32m~/anaconda3/envs/mlb_env/lib/python3.10/site-packages/pandas/core/generic.py:6318\u001b[0m, in \u001b[0;36mNDFrame.__getattr__\u001b[0;34m(self, name)\u001b[0m\n\u001b[1;32m   6311\u001b[0m \u001b[38;5;28;01mif\u001b[39;00m (\n\u001b[1;32m   6312\u001b[0m     name \u001b[38;5;129;01mnot\u001b[39;00m \u001b[38;5;129;01min\u001b[39;00m \u001b[38;5;28mself\u001b[39m\u001b[38;5;241m.\u001b[39m_internal_names_set\n\u001b[1;32m   6313\u001b[0m     \u001b[38;5;129;01mand\u001b[39;00m name \u001b[38;5;129;01mnot\u001b[39;00m \u001b[38;5;129;01min\u001b[39;00m \u001b[38;5;28mself\u001b[39m\u001b[38;5;241m.\u001b[39m_metadata\n\u001b[1;32m   6314\u001b[0m     \u001b[38;5;129;01mand\u001b[39;00m name \u001b[38;5;129;01mnot\u001b[39;00m \u001b[38;5;129;01min\u001b[39;00m \u001b[38;5;28mself\u001b[39m\u001b[38;5;241m.\u001b[39m_accessors\n\u001b[1;32m   6315\u001b[0m     \u001b[38;5;129;01mand\u001b[39;00m \u001b[38;5;28mself\u001b[39m\u001b[38;5;241m.\u001b[39m_info_axis\u001b[38;5;241m.\u001b[39m_can_hold_identifiers_and_holds_name(name)\n\u001b[1;32m   6316\u001b[0m ):\n\u001b[1;32m   6317\u001b[0m     \u001b[38;5;28;01mreturn\u001b[39;00m \u001b[38;5;28mself\u001b[39m[name]\n\u001b[0;32m-> 6318\u001b[0m \u001b[38;5;28;01mreturn\u001b[39;00m \u001b[38;5;28;43mobject\u001b[39;49m\u001b[38;5;241;43m.\u001b[39;49m\u001b[38;5;21;43m__getattribute__\u001b[39;49m\u001b[43m(\u001b[49m\u001b[38;5;28;43mself\u001b[39;49m\u001b[43m,\u001b[49m\u001b[43m \u001b[49m\u001b[43mname\u001b[49m\u001b[43m)\u001b[49m\n",
      "File \u001b[0;32m~/anaconda3/envs/mlb_env/lib/python3.10/site-packages/pandas/core/accessor.py:224\u001b[0m, in \u001b[0;36mCachedAccessor.__get__\u001b[0;34m(self, obj, cls)\u001b[0m\n\u001b[1;32m    221\u001b[0m \u001b[38;5;28;01mif\u001b[39;00m obj \u001b[38;5;129;01mis\u001b[39;00m \u001b[38;5;28;01mNone\u001b[39;00m:\n\u001b[1;32m    222\u001b[0m     \u001b[38;5;66;03m# we're accessing the attribute of the class, i.e., Dataset.geo\u001b[39;00m\n\u001b[1;32m    223\u001b[0m     \u001b[38;5;28;01mreturn\u001b[39;00m \u001b[38;5;28mself\u001b[39m\u001b[38;5;241m.\u001b[39m_accessor\n\u001b[0;32m--> 224\u001b[0m accessor_obj \u001b[38;5;241m=\u001b[39m \u001b[38;5;28;43mself\u001b[39;49m\u001b[38;5;241;43m.\u001b[39;49m\u001b[43m_accessor\u001b[49m\u001b[43m(\u001b[49m\u001b[43mobj\u001b[49m\u001b[43m)\u001b[49m\n\u001b[1;32m    225\u001b[0m \u001b[38;5;66;03m# Replace the property with the accessor object. Inspired by:\u001b[39;00m\n\u001b[1;32m    226\u001b[0m \u001b[38;5;66;03m# https://www.pydanny.com/cached-property.html\u001b[39;00m\n\u001b[1;32m    227\u001b[0m \u001b[38;5;66;03m# We need to use object.__setattr__ because we overwrite __setattr__ on\u001b[39;00m\n\u001b[1;32m    228\u001b[0m \u001b[38;5;66;03m# NDFrame\u001b[39;00m\n\u001b[1;32m    229\u001b[0m \u001b[38;5;28mobject\u001b[39m\u001b[38;5;241m.\u001b[39m\u001b[38;5;21m__setattr__\u001b[39m(obj, \u001b[38;5;28mself\u001b[39m\u001b[38;5;241m.\u001b[39m_name, accessor_obj)\n",
      "File \u001b[0;32m~/anaconda3/envs/mlb_env/lib/python3.10/site-packages/pandas/core/strings/accessor.py:194\u001b[0m, in \u001b[0;36mStringMethods.__init__\u001b[0;34m(self, data)\u001b[0m\n\u001b[1;32m    191\u001b[0m \u001b[38;5;28;01mdef\u001b[39;00m\u001b[38;5;250m \u001b[39m\u001b[38;5;21m__init__\u001b[39m(\u001b[38;5;28mself\u001b[39m, data) \u001b[38;5;241m-\u001b[39m\u001b[38;5;241m>\u001b[39m \u001b[38;5;28;01mNone\u001b[39;00m:\n\u001b[1;32m    192\u001b[0m     \u001b[38;5;28;01mfrom\u001b[39;00m\u001b[38;5;250m \u001b[39m\u001b[38;5;21;01mpandas\u001b[39;00m\u001b[38;5;21;01m.\u001b[39;00m\u001b[38;5;21;01mcore\u001b[39;00m\u001b[38;5;21;01m.\u001b[39;00m\u001b[38;5;21;01marrays\u001b[39;00m\u001b[38;5;21;01m.\u001b[39;00m\u001b[38;5;21;01mstring_\u001b[39;00m\u001b[38;5;250m \u001b[39m\u001b[38;5;28;01mimport\u001b[39;00m StringDtype\n\u001b[0;32m--> 194\u001b[0m     \u001b[38;5;28mself\u001b[39m\u001b[38;5;241m.\u001b[39m_inferred_dtype \u001b[38;5;241m=\u001b[39m \u001b[38;5;28;43mself\u001b[39;49m\u001b[38;5;241;43m.\u001b[39;49m\u001b[43m_validate\u001b[49m\u001b[43m(\u001b[49m\u001b[43mdata\u001b[49m\u001b[43m)\u001b[49m\n\u001b[1;32m    195\u001b[0m     \u001b[38;5;28mself\u001b[39m\u001b[38;5;241m.\u001b[39m_is_categorical \u001b[38;5;241m=\u001b[39m \u001b[38;5;28misinstance\u001b[39m(data\u001b[38;5;241m.\u001b[39mdtype, CategoricalDtype)\n\u001b[1;32m    196\u001b[0m     \u001b[38;5;28mself\u001b[39m\u001b[38;5;241m.\u001b[39m_is_string \u001b[38;5;241m=\u001b[39m \u001b[38;5;28misinstance\u001b[39m(data\u001b[38;5;241m.\u001b[39mdtype, StringDtype)\n",
      "File \u001b[0;32m~/anaconda3/envs/mlb_env/lib/python3.10/site-packages/pandas/core/strings/accessor.py:248\u001b[0m, in \u001b[0;36mStringMethods._validate\u001b[0;34m(data)\u001b[0m\n\u001b[1;32m    245\u001b[0m inferred_dtype \u001b[38;5;241m=\u001b[39m lib\u001b[38;5;241m.\u001b[39minfer_dtype(values, skipna\u001b[38;5;241m=\u001b[39m\u001b[38;5;28;01mTrue\u001b[39;00m)\n\u001b[1;32m    247\u001b[0m \u001b[38;5;28;01mif\u001b[39;00m inferred_dtype \u001b[38;5;129;01mnot\u001b[39;00m \u001b[38;5;129;01min\u001b[39;00m allowed_types:\n\u001b[0;32m--> 248\u001b[0m     \u001b[38;5;28;01mraise\u001b[39;00m \u001b[38;5;167;01mAttributeError\u001b[39;00m(\u001b[38;5;124m\"\u001b[39m\u001b[38;5;124mCan only use .str accessor with string values!\u001b[39m\u001b[38;5;124m\"\u001b[39m)\n\u001b[1;32m    249\u001b[0m \u001b[38;5;28;01mreturn\u001b[39;00m inferred_dtype\n",
      "\u001b[0;31mAttributeError\u001b[0m: Can only use .str accessor with string values!"
     ]
    }
   ],
   "source": [
    "szn_stats['pitching_inningsPitchedDecimal'] = szn_stats['pitching_inningsPitched'].str.rsplit('.')[0] + (0.333 * szn_stats['pitching_inningsPitched'].str.rsplit('.')[1])\n",
    "szn_stats['pitching_baseOnBallsAvg'] = szn_stats['pitching_baseOnBalls'] / szn_stats['pitching_inningsPitchedDeceimal']"
   ]
  },
  {
   "cell_type": "code",
   "execution_count": null,
   "id": "8ff51a26-e66f-45ec-90a2-8ca61a605e2b",
   "metadata": {},
   "outputs": [],
   "source": []
  }
 ],
 "metadata": {
  "kernelspec": {
   "display_name": "Python 3 (ipykernel)",
   "language": "python",
   "name": "python3"
  },
  "language_info": {
   "codemirror_mode": {
    "name": "ipython",
    "version": 3
   },
   "file_extension": ".py",
   "mimetype": "text/x-python",
   "name": "python",
   "nbconvert_exporter": "python",
   "pygments_lexer": "ipython3",
   "version": "3.10.18"
  }
 },
 "nbformat": 4,
 "nbformat_minor": 5
}
