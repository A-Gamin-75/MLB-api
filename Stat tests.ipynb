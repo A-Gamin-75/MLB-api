{
 "cells": [
  {
   "cell_type": "code",
   "execution_count": 1,
   "id": "6901e724-8c24-4d89-81bf-11821b36d897",
   "metadata": {},
   "outputs": [],
   "source": [
    "import pandas as pd\n",
    "import csv\n",
    "from pprint import pprint\n",
    "import glob\n",
    "import os\n",
    "import sys"
   ]
  },
  {
   "cell_type": "code",
   "execution_count": 2,
   "id": "a1865969-806b-4d3c-b88b-dc9f88f60ff7",
   "metadata": {},
   "outputs": [],
   "source": [
    "# File paths\n",
    "PLAYER_STATS_FOLDER = 'stats/player/'\n",
    "TEAM_STATS_FOLDER = 'stats/team/'"
   ]
  },
  {
   "cell_type": "markdown",
   "id": "c7462e54-521c-4e22-b74a-6ddd5875676e",
   "metadata": {},
   "source": []
  },
  {
   "cell_type": "code",
   "execution_count": 14,
   "id": "a75d56f6-b6bd-4209-992f-26575e119343",
   "metadata": {},
   "outputs": [],
   "source": [
    "game_stats = pd.read_csv(f\"{PLAYER_STATS_FOLDER}relational/2025-07-13_game_stats.csv\")\n",
    "szn_stats = pd.read_csv(f\"{PLAYER_STATS_FOLDER}relational/2025_stats.csv\")"
   ]
  },
  {
   "cell_type": "code",
   "execution_count": 23,
   "id": "25c8176b-d915-42bf-9130-c54356481867",
   "metadata": {},
   "outputs": [
    {
     "name": "stdout",
     "output_type": "stream",
     "text": [
      "0       NaN\n",
      "1      32.2\n",
      "2       NaN\n",
      "3       NaN\n",
      "4       NaN\n",
      "       ... \n",
      "439     NaN\n",
      "440     NaN\n",
      "441     NaN\n",
      "442    16.1\n",
      "443     6.2\n",
      "Name: pitching_inningsPitched, Length: 444, dtype: float64\n"
     ]
    }
   ],
   "source": [
    "print(szn_stats['pitching_inningsPitched'])"
   ]
  },
  {
   "cell_type": "code",
   "execution_count": 20,
   "id": "5131d9c4-cf32-460e-bcdc-c8e13a4cf3b4",
   "metadata": {},
   "outputs": [
    {
     "ename": "TypeError",
     "evalue": "'Series' object cannot be interpreted as an integer",
     "output_type": "error",
     "traceback": [
      "\u001b[0;31m---------------------------------------------------------------------------\u001b[0m",
      "\u001b[0;31mTypeError\u001b[0m                                 Traceback (most recent call last)",
      "Cell \u001b[0;32mIn[20], line 1\u001b[0m\n\u001b[0;32m----> 1\u001b[0m szn_stats[\u001b[38;5;124m'\u001b[39m\u001b[38;5;124mpitching_inningsPitchedDecimal\u001b[39m\u001b[38;5;124m'\u001b[39m] \u001b[38;5;241m=\u001b[39m \u001b[38;5;28;43mchr\u001b[39;49m\u001b[43m(\u001b[49m\u001b[43mszn_stats\u001b[49m\u001b[43m[\u001b[49m\u001b[38;5;124;43m'\u001b[39;49m\u001b[38;5;124;43mpitching_inningsPitched\u001b[39;49m\u001b[38;5;124;43m'\u001b[39;49m\u001b[43m]\u001b[49m\u001b[43m)\u001b[49m\u001b[38;5;241m.\u001b[39mstr\u001b[38;5;241m.\u001b[39msplit(\u001b[38;5;124m'\u001b[39m\u001b[38;5;124m.\u001b[39m\u001b[38;5;124m'\u001b[39m)[\u001b[38;5;241m0\u001b[39m] \u001b[38;5;241m+\u001b[39m (\u001b[38;5;241m0.333\u001b[39m \u001b[38;5;241m*\u001b[39m \u001b[38;5;28mchr\u001b[39m(szn_stats[\u001b[38;5;124m'\u001b[39m\u001b[38;5;124mpitching_inningsPitched\u001b[39m\u001b[38;5;124m'\u001b[39m])\u001b[38;5;241m.\u001b[39mstr\u001b[38;5;241m.\u001b[39msplit(\u001b[38;5;124m'\u001b[39m\u001b[38;5;124m.\u001b[39m\u001b[38;5;124m'\u001b[39m)[\u001b[38;5;241m1\u001b[39m])\n\u001b[1;32m      2\u001b[0m szn_stats[\u001b[38;5;124m'\u001b[39m\u001b[38;5;124mpitching_baseOnBallsAvg\u001b[39m\u001b[38;5;124m'\u001b[39m] \u001b[38;5;241m=\u001b[39m szn_stats[\u001b[38;5;124m'\u001b[39m\u001b[38;5;124mpitching_baseOnBalls\u001b[39m\u001b[38;5;124m'\u001b[39m] \u001b[38;5;241m/\u001b[39m szn_stats[\u001b[38;5;124m'\u001b[39m\u001b[38;5;124mpitching_inningsPitchedDeceimal\u001b[39m\u001b[38;5;124m'\u001b[39m]\n",
      "\u001b[0;31mTypeError\u001b[0m: 'Series' object cannot be interpreted as an integer"
     ]
    }
   ],
   "source": [
    "szn_stats['pitching_inningsPitchedDecimal'] = chr(szn_stats['pitching_inningsPitched']).str.rsplit('.')[0] + (0.333 * chr(szn_stats['pitching_inningsPitched']).str.rsplit('.')[1])\n",
    "szn_stats['pitching_baseOnBallsAvg'] = szn_stats['pitching_baseOnBalls'] / szn_stats['pitching_inningsPitchedDeceimal']"
   ]
  },
  {
   "cell_type": "code",
   "execution_count": null,
   "id": "8ff51a26-e66f-45ec-90a2-8ca61a605e2b",
   "metadata": {},
   "outputs": [],
   "source": []
  }
 ],
 "metadata": {
  "kernelspec": {
   "display_name": "Python 3 (ipykernel)",
   "language": "python",
   "name": "python3"
  },
  "language_info": {
   "codemirror_mode": {
    "name": "ipython",
    "version": 3
   },
   "file_extension": ".py",
   "mimetype": "text/x-python",
   "name": "python",
   "nbconvert_exporter": "python",
   "pygments_lexer": "ipython3",
   "version": "3.10.18"
  }
 },
 "nbformat": 4,
 "nbformat_minor": 5
}
